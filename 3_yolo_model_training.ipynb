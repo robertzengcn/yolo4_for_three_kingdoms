{
 "cells": [
  {
   "cell_type": "markdown",
   "metadata": {
    "id": "y_ohotn_qybF"
   },
   "source": [
    "\n",
    "# **Instructions**:\n",
    "\n",
    "### 1 - Upload this notebook on [Google Colab](https://colab.research.google.com/) (this notebook need to run on Google Colab).\n",
    "### 2 - Open the notebook on Google Colab.\n",
    "### 3 - Change the Google Colab runtime to \"GPU\" by navigating to \"Runtime\" > \"Change runtime type\"\n",
    "### 4 - Run all cells to start training your model.\n",
    "### 5 - After the last command finish its execution, copy the file ```yolov4-tiny/training/yolov4-tiny-custom_last.weights``` from your google drive to the cloned project in the same folder as the 4_yolo_opencv_detector notebook.\n"
   ]
  },
  {
   "cell_type": "code",
   "execution_count": null,
   "metadata": {
    "id": "sLELVfEKDnI_"
   },
   "outputs": [],
   "source": [
    "!git clone https://github.com/AlexeyAB/darknet"
   ]
  },
  {
   "cell_type": "code",
   "execution_count": null,
   "metadata": {
    "id": "UcHcVVfHRqx5"
   },
   "outputs": [],
   "source": [
    "%cd ..\n",
    "from google.colab import drive\n",
    "drive.mount('/content/gdrive')\n",
    "\n",
    "!ln -s /content/gdrive/My\\ Drive/ /mydrive"
   ]
  },
  {
   "cell_type": "code",
   "execution_count": null,
   "metadata": {
    "id": "fHdLgyNRqP1X"
   },
   "outputs": [],
   "source": [
    "!ls /mydrive/yolov4-tiny"
   ]
  },
  {
   "cell_type": "code",
   "execution_count": null,
   "metadata": {
    "id": "vRx_2ufLYKzq"
   },
   "outputs": [],
   "source": [
    "%cd /content/darknet/\n",
    "!sed -i 's/OPENCV=0/OPENCV=1/' Makefile\n",
    "!sed -i 's/GPU=0/GPU=1/' Makefile\n",
    "!sed -i 's/CUDNN=0/CUDNN=1/' Makefile\n",
    "!sed -i 's/CUDNN_HALF=0/CUDNN_HALF=1/' Makefile\n",
    "!sed -i 's/LIBSO=0/LIBSO=1/' Makefile"
   ]
  },
  {
   "cell_type": "code",
   "execution_count": null,
   "metadata": {
    "id": "YgWuHt3GK3Gz"
   },
   "outputs": [],
   "source": [
    "!make"
   ]
  },
  {
   "cell_type": "code",
   "execution_count": null,
   "metadata": {
    "id": "PJ12EpatuOdw"
   },
   "outputs": [],
   "source": [
    "%cd data/\n",
    "!find -maxdepth 1 -type f -exec rm -rf {} \\;\n",
    "%cd ..\n",
    "\n",
    "%rm -rf cfg/\n",
    "%mkdir cfg"
   ]
  },
  {
   "cell_type": "code",
   "execution_count": null,
   "metadata": {
    "id": "eUeBO88DuSdj"
   },
   "outputs": [],
   "source": [
    "!cp /mydrive/yolov4-tiny/obj.zip ../\n",
    "!unzip ../obj.zip -d data/\n",
    "\n",
    "!cp /mydrive/yolov4-tiny/yolov4-tiny-custom.cfg ./cfg\n",
    "!cp /mydrive/yolov4-tiny/obj.names ./data\n",
    "!cp /mydrive/yolov4-tiny/obj.data  ./data\n",
    "!cp /mydrive/yolov4-tiny/process.py ./\n",
    "!cp /mydrive/yolov4-tiny/yolov4-tiny.conv.29 ./"
   ]
  },
  {
   "cell_type": "code",
   "execution_count": null,
   "metadata": {},
   "outputs": [],
   "source": [
    "import os\n",
    "\n",
    "def generate_path_files(train_dir, val_dir, output_train=\"train.txt\", output_val=\"val.txt\"):\n",
    "    \"\"\"\n",
    "    Generate text files with absolute paths to images in training and validation directories.\n",
    "    \n",
    "    Args:\n",
    "        train_dir (str): Path to training images directory\n",
    "        val_dir (str): Path to validation images directory\n",
    "        output_train (str): Name/path for training output file\n",
    "        output_val (str): Name/path for validation output file\n",
    "    \"\"\"\n",
    "    # Common image file extensions to consider\n",
    "    image_extensions = ('.jpg', '.jpeg', '.png', '.bmp', '.gif', '.tiff')\n",
    "    \n",
    "    def get_image_paths(directory):\n",
    "        \"\"\"Helper function to get absolute paths of all images in a directory\"\"\"\n",
    "        image_paths = []\n",
    "        # Walk through all subdirectories and files\n",
    "        for root, _, files in os.walk(directory):\n",
    "            for file in files:\n",
    "                # Check if file has an image extension\n",
    "                if file.lower().endswith(image_extensions):\n",
    "                    # Get absolute path and add to list\n",
    "                    abs_path = os.path.abspath(os.path.join(root, file))\n",
    "                    image_paths.append(abs_path)\n",
    "        return image_paths\n",
    "\n",
    "    # Get paths for training and validation images\n",
    "    train_paths = get_image_paths(train_dir)\n",
    "    val_paths = get_image_paths(val_dir)\n",
    "    # Ensure train/val directories exist; if not, create them and refresh path lists\n",
    "    if not os.path.isdir(train_dir):\n",
    "        os.makedirs(train_dir, exist_ok=True)\n",
    "        train_paths = get_image_paths(train_dir)\n",
    "    if not os.path.isdir(val_dir):\n",
    "        os.makedirs(val_dir, exist_ok=True)\n",
    "        val_paths = get_image_paths(val_dir)\n",
    "\n",
    "    # Ensure directories for the output files exist\n",
    "    for out in (output_train, output_val):\n",
    "        out_dir = os.path.dirname(out)\n",
    "        if out_dir and not os.path.exists(out_dir):\n",
    "            os.makedirs(out_dir, exist_ok=True)\n",
    "    # Write training paths to file\n",
    "    with open(output_train, 'w') as f:\n",
    "        for path in train_paths:\n",
    "            f.write(f\"{path}\\n\")\n",
    "\n",
    "    # Write validation paths to file\n",
    "    with open(output_val, 'w') as f:\n",
    "        for path in val_paths:\n",
    "            f.write(f\"{path}\\n\")\n",
    "\n",
    "    print(f\"Successfully generated:\")\n",
    "    print(f\"- {output_train} with {len(train_paths)} training images\")\n",
    "    print(f\"- {output_val} with {len(val_paths)} validation images\")\n",
    "    \n",
    "TRAIN_DIRECTORY = \"./yolo_custom_dataset/images/train\"\n",
    "VAL_DIRECTORY = \"./yolo_custom_dataset/images/val\"\n",
    "    \n",
    "    # Generate the text files\n",
    "generate_path_files(TRAIN_DIRECTORY, VAL_DIRECTORY,'./yolov4-tiny/train.txt','./yolov4-tiny/test.txt')    "
   ]
  },
  {
   "cell_type": "code",
   "execution_count": null,
   "metadata": {
    "id": "N8JDSBpwusXn"
   },
   "outputs": [],
   "source": [
    "!python process.py"
   ]
  },
  {
   "cell_type": "code",
   "execution_count": null,
   "metadata": {
    "id": "omzY915VqWS8"
   },
   "outputs": [],
   "source": [
    "!ls data/"
   ]
  },
  {
   "cell_type": "code",
   "execution_count": null,
   "metadata": {
    "id": "iblRcnnSu1Uq"
   },
   "outputs": [],
   "source": [
    "!./darknet detector train data/obj.data cfg/yolov4-tiny-custom.cfg yolov4-tiny.conv.29 -dont_show"
   ]
  }
 ],
 "metadata": {
  "accelerator": "GPU",
  "colab": {
   "gpuType": "T4",
   "provenance": []
  },
  "kernelspec": {
   "display_name": "Python 3 (ipykernel)",
   "language": "python",
   "name": "python3"
  },
  "language_info": {
   "codemirror_mode": {
    "name": "ipython",
    "version": 3
   },
   "file_extension": ".py",
   "mimetype": "text/x-python",
   "name": "python",
   "nbconvert_exporter": "python",
   "pygments_lexer": "ipython3",
   "version": "3.11.3"
  }
 },
 "nbformat": 4,
 "nbformat_minor": 1
}
