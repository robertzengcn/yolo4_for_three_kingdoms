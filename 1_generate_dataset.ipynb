{
 "cells": [
  {
   "cell_type": "markdown",
   "id": "6228ae7a",
   "metadata": {},
   "source": [
    "# Important Note:\n",
    "\n",
    "### I strongly suggest you follow my step-by-step video tutorial. The video will not only walk you through each step of the process but also includes a real-time execution using Diablo 2 as an example.\n",
    "\n",
    "### Here is the link to the video: \n",
    "https://www.youtube.com/watch?v=RSXgyDf2ALo\n",
    "[![Watch the video](https://img.youtube.com/vi/RSXgyDf2ALo/maxresdefault.jpg)](https://youtu.be/RSXgyDf2ALo)\n"
   ]
  },
  {
   "cell_type": "markdown",
   "id": "c75577ac",
   "metadata": {},
   "source": [
    "# **Instructions**:\n",
    "\n",
    "### 1 - Open your game that you want to perform detections\n",
    "### 2 - In the game window, get the name of it's title bar \n",
    "### 3 - Update the variable \"window_name\" with the game title bar name\n",
    "### 4 - Run all cells to start generating your dataset in the folder images"
   ]
  },
  {
   "cell_type": "code",
   "execution_count": 5,
   "id": "91800ec7",
   "metadata": {},
   "outputs": [],
   "source": [
    "import numpy as np\n",
    "import win32gui, win32ui, win32con\n",
    "from PIL import Image\n",
    "from time import sleep\n",
    "import os"
   ]
  },
  {
   "cell_type": "code",
   "execution_count": 3,
   "id": "acca996b",
   "metadata": {},
   "outputs": [
    {
     "name": "stdout",
     "output_type": "stream",
     "text": [
      "窗口句柄: 266102, 标题: 1_generate_dataset.ipynb - Untitled (Workspace) - Visual Studio Code\n",
      "窗口句柄: 135286, 标题: MAME: 三国战纪 - 风云再起 (版本 101, CN) [kovsh101]\n",
      "窗口句柄: 920368, 标题: Microsoft Edge 的新增功能 - 个人 - Microsoft​ Edge\n",
      "窗口句柄: 67742, 标题: OpenVPN Connect\n",
      "窗口句柄: 131334, 标题: mame模拟器怎么暂停游戏_百度搜索 - Google Chrome\n",
      "窗口句柄: 134540, 标题: ~/project/marketsystemui/yarn.lock - marketsystemui (Workspace) [WSL: ubuntu-22.04] - Cursor\n",
      "窗口句柄: 789116, 标题: 三国战纪1、2合集（整合Mame32 模拟器） - 文件资源管理器\n",
      "窗口句柄: 134550, 标题: ~/project/social-marketing/src/background.ts - social-marketing (Workspace) [WSL: ubuntu-22.04] - Cursor\n",
      "窗口句柄: 134536, 标题: ~/project/langgraphdemo/MultiAgent/Director.py - langgraphdemo (Workspace) [WSL: ubuntu-22.04] - Cursor\n",
      "窗口句柄: 200412, 标题: ~/project/go_workspace/gindemo/channeltest.go - Untitled (Workspace) - Cursor\n",
      "窗口句柄: 396514, 标题: ~/project/yolo/yolov3/data/voc.yaml - yolov3 (Workspace) [WSL: ubuntu-22.04] - Cursor\n",
      "窗口句柄: 330660, 标题: ~/project/aiFetchly/doc/mcp-server-prd.md - aiFetchly (Workspace) [WSL: ubuntu-22.04] - Cursor\n",
      "窗口句柄: 526854, 标题: 微信\n",
      "窗口句柄: 200298, 标题: 登录 - AiFetchly\n",
      "窗口句柄: 199662, 标题: 三国战纪1、2合集（整合Mame32 模拟器） - 文件资源管理器\n",
      "窗口句柄: 133526, 标题: 百度网盘\n",
      "窗口句柄: 133250, 标题: dummyLayeredWnd\n",
      "窗口句柄: 66782, 标题: Windows 输入体验\n",
      "窗口句柄: 724582, 标题: DevTools - test.tecnatel.com/login?app=aiFetchly\n",
      "窗口句柄: 135034, 标题: 命令提示符 - \"E:\\miniconda\\condabin\\conda.bat\"  activate yoloopencv\n",
      "窗口句柄: 724092, 标题: bus.jpg - yolov3 [WSL: Ubuntu-22.04] - Visual Studio Code\n",
      "窗口句柄: 65896, 标题: Program Manager\n"
     ]
    }
   ],
   "source": [
    "import win32gui\n",
    "\n",
    "def enum_windows_callback(hwnd, window_list):\n",
    "    if win32gui.IsWindowVisible(hwnd):  # 只列出可见窗口\n",
    "        title = win32gui.GetWindowText(hwnd)\n",
    "        if title:  # 排除空标题窗口\n",
    "            window_list.append((hwnd, title))\n",
    "\n",
    "def list_windows():\n",
    "    windows = []\n",
    "    win32gui.EnumWindows(enum_windows_callback, windows)\n",
    "    for hwnd, title in windows:\n",
    "        print(f\"窗口句柄: {hwnd}, 标题: {title}\")\n",
    "\n",
    "list_windows()"
   ]
  },
  {
   "cell_type": "code",
   "execution_count": 5,
   "id": "5f9c9c67",
   "metadata": {},
   "outputs": [],
   "source": [
    "class WindowCapture:\n",
    "    w = 0\n",
    "    h = 0\n",
    "    hwnd = None\n",
    "\n",
    "    def __init__(self, window_name):\n",
    "        self.hwnd = win32gui.FindWindow(None, window_name)\n",
    "        if not self.hwnd:\n",
    "            raise Exception('Window not found: {}'.format(window_name))\n",
    "        else:\n",
    "            print('Window found: {}'.format(window_name))\n",
    "        window_rect = win32gui.GetWindowRect(self.hwnd)\n",
    "        self.w = window_rect[2] - window_rect[0]\n",
    "        self.h = window_rect[3] - window_rect[1]\n",
    "\n",
    "        border_pixels = 8\n",
    "        titlebar_pixels = 30\n",
    "        self.w = self.w - (border_pixels * 2)\n",
    "        self.h = self.h - titlebar_pixels - border_pixels\n",
    "        self.cropped_x = border_pixels\n",
    "        self.cropped_y = titlebar_pixels\n",
    "\n",
    "    def get_screenshot(self):\n",
    "        wDC = win32gui.GetWindowDC(self.hwnd)\n",
    "        dcObj = win32ui.CreateDCFromHandle(wDC)\n",
    "        cDC = dcObj.CreateCompatibleDC()\n",
    "        dataBitMap = win32ui.CreateBitmap()\n",
    "        dataBitMap.CreateCompatibleBitmap(dcObj, self.w, self.h)\n",
    "        cDC.SelectObject(dataBitMap)\n",
    "        cDC.BitBlt((0, 0), (self.w, self.h), dcObj, (self.cropped_x, self.cropped_y), win32con.SRCCOPY)\n",
    "\n",
    "        signedIntsArray = dataBitMap.GetBitmapBits(True)\n",
    "        img = np.fromstring(signedIntsArray, dtype='uint8')\n",
    "        img.shape = (self.h, self.w, 4)\n",
    "\n",
    "        dcObj.DeleteDC()\n",
    "        cDC.DeleteDC()\n",
    "        win32gui.ReleaseDC(self.hwnd, wDC)\n",
    "        win32gui.DeleteObject(dataBitMap.GetHandle())\n",
    "\n",
    "        img = img[...,:3]\n",
    "        img = np.ascontiguousarray(img) \n",
    "            \n",
    "        return img\n",
    "\n",
    "    def generate_image_dataset(self):\n",
    "        if not os.path.exists(\"images\"):\n",
    "            os.mkdir(\"images\")\n",
    "        while(True):\n",
    "            img = self.get_screenshot()\n",
    "            im = Image.fromarray(img[..., [2, 1, 0]])\n",
    "            im.save(f\"./images/img_{len(os.listdir('images'))}.jpg\")\n",
    "            sleep(0.3)\n",
    "    \n",
    "    def get_window_size(self):\n",
    "        return (self.w, self.h)"
   ]
  },
  {
   "cell_type": "code",
   "execution_count": 6,
   "id": "5507d47c",
   "metadata": {},
   "outputs": [
    {
     "name": "stdout",
     "output_type": "stream",
     "text": [
      "Window found: MAME: 三国战纪 - 风云再起 (版本 101, CN) [kovsh101]\n"
     ]
    },
    {
     "name": "stderr",
     "output_type": "stream",
     "text": [
      "C:\\Users\\zengj\\AppData\\Local\\Temp\\ipykernel_3248\\1096205031.py:33: DeprecationWarning: The binary mode of fromstring is deprecated, as it behaves surprisingly on unicode inputs. Use frombuffer instead\n",
      "  img = np.fromstring(signedIntsArray, dtype='uint8')\n"
     ]
    },
    {
     "ename": "error",
     "evalue": "(1400, 'GetWindowDC', '无效的窗口句柄。')",
     "output_type": "error",
     "traceback": [
      "\u001b[1;31m---------------------------------------------------------------------------\u001b[0m",
      "\u001b[1;31merror\u001b[0m                                     Traceback (most recent call last)",
      "Cell \u001b[1;32mIn[6], line 5\u001b[0m\n\u001b[0;32m      2\u001b[0m window_name \u001b[38;5;241m=\u001b[39m \u001b[38;5;124m\"\u001b[39m\u001b[38;5;124mMAME: 三国战纪 - 风云再起 (版本 101, CN) [kovsh101]\u001b[39m\u001b[38;5;124m\"\u001b[39m\n\u001b[0;32m      4\u001b[0m wincap \u001b[38;5;241m=\u001b[39m WindowCapture(window_name)\n\u001b[1;32m----> 5\u001b[0m \u001b[43mwincap\u001b[49m\u001b[38;5;241;43m.\u001b[39;49m\u001b[43mgenerate_image_dataset\u001b[49m\u001b[43m(\u001b[49m\u001b[43m)\u001b[49m\n",
      "Cell \u001b[1;32mIn[5], line 50\u001b[0m, in \u001b[0;36mWindowCapture.generate_image_dataset\u001b[1;34m(self)\u001b[0m\n\u001b[0;32m     48\u001b[0m     os\u001b[38;5;241m.\u001b[39mmkdir(\u001b[38;5;124m\"\u001b[39m\u001b[38;5;124mimages\u001b[39m\u001b[38;5;124m\"\u001b[39m)\n\u001b[0;32m     49\u001b[0m \u001b[38;5;28;01mwhile\u001b[39;00m(\u001b[38;5;28;01mTrue\u001b[39;00m):\n\u001b[1;32m---> 50\u001b[0m     img \u001b[38;5;241m=\u001b[39m \u001b[38;5;28;43mself\u001b[39;49m\u001b[38;5;241;43m.\u001b[39;49m\u001b[43mget_screenshot\u001b[49m\u001b[43m(\u001b[49m\u001b[43m)\u001b[49m\n\u001b[0;32m     51\u001b[0m     im \u001b[38;5;241m=\u001b[39m Image\u001b[38;5;241m.\u001b[39mfromarray(img[\u001b[38;5;241m.\u001b[39m\u001b[38;5;241m.\u001b[39m\u001b[38;5;241m.\u001b[39m, [\u001b[38;5;241m2\u001b[39m, \u001b[38;5;241m1\u001b[39m, \u001b[38;5;241m0\u001b[39m]])\n\u001b[0;32m     52\u001b[0m     im\u001b[38;5;241m.\u001b[39msave(\u001b[38;5;124mf\u001b[39m\u001b[38;5;124m\"\u001b[39m\u001b[38;5;124m./images/img_\u001b[39m\u001b[38;5;132;01m{\u001b[39;00m\u001b[38;5;28mlen\u001b[39m(os\u001b[38;5;241m.\u001b[39mlistdir(\u001b[38;5;124m'\u001b[39m\u001b[38;5;124mimages\u001b[39m\u001b[38;5;124m'\u001b[39m))\u001b[38;5;132;01m}\u001b[39;00m\u001b[38;5;124m.jpg\u001b[39m\u001b[38;5;124m\"\u001b[39m)\n",
      "Cell \u001b[1;32mIn[5], line 24\u001b[0m, in \u001b[0;36mWindowCapture.get_screenshot\u001b[1;34m(self)\u001b[0m\n\u001b[0;32m     23\u001b[0m \u001b[38;5;28;01mdef\u001b[39;00m\u001b[38;5;250m \u001b[39m\u001b[38;5;21mget_screenshot\u001b[39m(\u001b[38;5;28mself\u001b[39m):\n\u001b[1;32m---> 24\u001b[0m     wDC \u001b[38;5;241m=\u001b[39m \u001b[43mwin32gui\u001b[49m\u001b[38;5;241;43m.\u001b[39;49m\u001b[43mGetWindowDC\u001b[49m\u001b[43m(\u001b[49m\u001b[38;5;28;43mself\u001b[39;49m\u001b[38;5;241;43m.\u001b[39;49m\u001b[43mhwnd\u001b[49m\u001b[43m)\u001b[49m\n\u001b[0;32m     25\u001b[0m     dcObj \u001b[38;5;241m=\u001b[39m win32ui\u001b[38;5;241m.\u001b[39mCreateDCFromHandle(wDC)\n\u001b[0;32m     26\u001b[0m     cDC \u001b[38;5;241m=\u001b[39m dcObj\u001b[38;5;241m.\u001b[39mCreateCompatibleDC()\n",
      "\u001b[1;31merror\u001b[0m: (1400, 'GetWindowDC', '无效的窗口句柄。')"
     ]
    }
   ],
   "source": [
    "# Execute this cell to generate a dataset of images for the specified window.\n",
    "window_name = \"MAME: 三国战纪 - 风云再起 (版本 101, CN) [kovsh101]\"\n",
    "\n",
    "wincap = WindowCapture(window_name)\n",
    "wincap.generate_image_dataset()"
   ]
  },
  {
   "cell_type": "code",
   "execution_count": 1,
   "id": "140eee80",
   "metadata": {},
   "outputs": [],
   "source": [
    "def cosine_similarity(a, b):\n",
    "    a = np.array(a)\n",
    "    b = np.array(b)\n",
    "    dot_product = np.dot(a, b.T)\n",
    "    norm_a = np.linalg.norm(a, axis=1, keepdims=True)\n",
    "    norm_b = np.linalg.norm(b, axis=1, keepdims=True)\n",
    "    similarity = dot_product / (norm_a * norm_b.T)\n",
    "    return similarity\n"
   ]
  },
  {
   "cell_type": "code",
   "execution_count": null,
   "id": "b6727c7e",
   "metadata": {},
   "outputs": [
    {
     "name": "stderr",
     "output_type": "stream",
     "text": [
      "C:\\Users\\zengj\\AppData\\Local\\Temp\\ipykernel_39044\\3039999235.py:7: RuntimeWarning: invalid value encountered in divide\n",
      "  similarity = dot_product / (norm_a * norm_b.T)\n"
     ]
    },
    {
     "name": "stdout",
     "output_type": "stream",
     "text": [
      "Copied 532 unique images to 'unique_image'.\n"
     ]
    },
    {
     "ename": "",
     "evalue": "",
     "output_type": "error",
     "traceback": [
      "\u001b[1;31mThe Kernel crashed while executing code in the current cell or a previous cell. \n",
      "\u001b[1;31mPlease review the code in the cell(s) to identify a possible cause of the failure. \n",
      "\u001b[1;31mClick <a href='https://aka.ms/vscodeJupyterKernelCrash'>here</a> for more info. \n",
      "\u001b[1;31mView Jupyter <a href='command:jupyter.viewOutput'>log</a> for further details."
     ]
    }
   ],
   "source": [
    "from shutil import copy2\n",
    "\n",
    "def find_and_copy_unique_images(src_folder='./images', dst_folder='unique_image', threshold=0.5):\n",
    "    if not os.path.exists(dst_folder):\n",
    "        os.makedirs(dst_folder)\n",
    "    image_files = [f for f in os.listdir(src_folder) if f.lower().endswith('.jpg')]\n",
    "    features = []\n",
    "    unique_files = []\n",
    "\n",
    "    for img_file in image_files:\n",
    "        img_path = os.path.join(src_folder, img_file)\n",
    "        img = Image.open(img_path).resize((64, 64)).convert('RGB')\n",
    "        feature = np.array(img).flatten()\n",
    "        is_unique = True\n",
    "        if features:\n",
    "            sims = cosine_similarity([feature], np.array(features))\n",
    "            if np.max(sims) > threshold:\n",
    "                is_unique = False\n",
    "        if is_unique:\n",
    "            features.append(feature)\n",
    "            unique_files.append(img_file)\n",
    "            copy2(img_path, os.path.join(dst_folder, img_file))\n",
    "    print(f\"Copied {len(unique_files)} unique images to '{dst_folder}'.\")\n",
    "\n",
    "# Usage:\n",
    "find_and_copy_unique_images()"
   ]
  }
 ],
 "metadata": {
  "kernelspec": {
   "display_name": "yoloopencv",
   "language": "python",
   "name": "python3"
  },
  "language_info": {
   "codemirror_mode": {
    "name": "ipython",
    "version": 3
   },
   "file_extension": ".py",
   "mimetype": "text/x-python",
   "name": "python",
   "nbconvert_exporter": "python",
   "pygments_lexer": "ipython3",
   "version": "3.10.0"
  }
 },
 "nbformat": 4,
 "nbformat_minor": 5
}
